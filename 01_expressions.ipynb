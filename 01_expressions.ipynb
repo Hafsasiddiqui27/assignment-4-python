{
  "nbformat": 4,
  "nbformat_minor": 0,
  "metadata": {
    "colab": {
      "provenance": [],
      "authorship_tag": "ABX9TyNCD4b0TcsbSt52znuC/xUe",
      "include_colab_link": true
    },
    "kernelspec": {
      "name": "python3",
      "display_name": "Python 3"
    },
    "language_info": {
      "name": "python"
    }
  },
  "cells": [
    {
      "cell_type": "markdown",
      "metadata": {
        "id": "view-in-github",
        "colab_type": "text"
      },
      "source": [
        "<a href=\"https://colab.research.google.com/github/Hafsasiddiqui27/assignment-4-python/blob/main/01_expressions.ipynb\" target=\"_parent\"><img src=\"https://colab.research.google.com/assets/colab-badge.svg\" alt=\"Open In Colab\"/></a>"
      ]
    },
    {
      "cell_type": "markdown",
      "source": [
        "# **01_dicesimulator**"
      ],
      "metadata": {
        "id": "8VH4UrREyUDw"
      }
    },
    {
      "cell_type": "code",
      "execution_count": null,
      "metadata": {
        "colab": {
          "base_uri": "https://localhost:8080/"
        },
        "id": "jG_1YonyyFPn",
        "outputId": "5c4e15f4-ad6b-46ed-8b96-5d9c0acc57d3"
      },
      "outputs": [
        {
          "output_type": "stream",
          "name": "stdout",
          "text": [
            "The die1 in main() is 100\n",
            "Dice 1: 1\n",
            "Dice 2: 2\n",
            "Total: 3\n",
            "Dice 1: 2\n",
            "Dice 2: 5\n",
            "Total: 7\n",
            "Dice 1: 3\n",
            "Dice 2: 2\n",
            "Total: 5\n",
            "die1  ends as: 100\n"
          ]
        }
      ],
      "source": [
        "import random\n",
        "def dice_roll():\n",
        "    dice1: int = random.randint(1,6)\n",
        "    dice2: int = random.randint(1,6)\n",
        "    total: int = dice1 + dice2\n",
        "    print(f\"Dice 1: {dice1}\")\n",
        "    print(f\"Dice 2: {dice2}\")\n",
        "    print(f\"Total: {total}\")\n",
        "def main():\n",
        "    dice1: int = 100\n",
        "    print(f\"The die1 in main() is {dice1}\")\n",
        "    dice_roll()\n",
        "    dice_roll()\n",
        "    dice_roll()\n",
        "    print(\"die1  ends as: \" + str(dice1))\n",
        "\n",
        "if __name__ == \"__main__\":\n",
        "  main()"
      ]
    },
    {
      "cell_type": "markdown",
      "source": [
        "# **02_e=mc2.**"
      ],
      "metadata": {
        "id": "ZFILqVFy_I4b"
      }
    },
    {
      "cell_type": "code",
      "source": [
        "C: int = 299792458\n",
        "def main():\n",
        "    mass: float = float(input(\"Enter the mass in kgs: \"))\n",
        "    energy_in_joules : float = mass * (C**2)\n",
        "\n",
        "    print(\"e = m * c^2..\")\n",
        "    print(\"mass (m) :\" + str(mass) + \"kg\")\n",
        "    print(\"speed of light (C):\" + str(C) + \"m/s\")\n",
        "    print(f\"{energy_in_joules} joules of energy!\")\n",
        "if __name__ == \"__main__\":\n",
        "  main()"
      ],
      "metadata": {
        "colab": {
          "base_uri": "https://localhost:8080/"
        },
        "id": "p6Dsclof_SRq",
        "outputId": "632fe8cc-38a3-4184-8c21-860e26b82c35"
      },
      "execution_count": null,
      "outputs": [
        {
          "output_type": "stream",
          "name": "stdout",
          "text": [
            "Enter the mass in kgs4\n",
            "e = m * c^2..\n",
            "mass (m) :4.0kg\n",
            "speed of light (C):299792458m/s\n",
            "3.5950207149472704e+17 joules of energy!\n"
          ]
        }
      ]
    },
    {
      "cell_type": "markdown",
      "source": [
        "# 03_foot_to_inches.*\n"
      ],
      "metadata": {
        "id": "nv_QCjtKEsNf"
      }
    },
    {
      "cell_type": "code",
      "source": [
        "INCHES_IN_FOOT = 12  # 1 foot = 12 inches\n",
        "def main():\n",
        "    feet: float = float(input(\"Enter the number of feet: \"))\n",
        "    inches: float = feet * INCHES_IN_FOOT\n",
        "    print(\"That is\", inches, \"inches!\")\n",
        "if __name__ == '__main__':\n",
        "    main()"
      ],
      "metadata": {
        "colab": {
          "base_uri": "https://localhost:8080/"
        },
        "id": "8_RUcTcdEyG_",
        "outputId": "0ca9b7f9-d196-4c95-f430-4374c908ef73"
      },
      "execution_count": null,
      "outputs": [
        {
          "output_type": "stream",
          "name": "stdout",
          "text": [
            "Enter the number of feet: 2\n",
            "That is 24.0 inches!\n"
          ]
        }
      ]
    },
    {
      "cell_type": "markdown",
      "source": [
        "# **04_pythagorean_theorem**"
      ],
      "metadata": {
        "id": "rebs6QcVm40H"
      }
    },
    {
      "cell_type": "code",
      "source": [
        "import math\n",
        "def main():\n",
        "    ab : float = float(input(\"\\033[1m\\033[3mEnter the length of AB:\\033[0m \"))\n",
        "    ac : float = float(input(\"\\033[1m\\033[3mEnter the length of AC:\\033[0m \"))\n",
        "    bc : float = math.sqrt(ab**2 + ac**2 )\n",
        "    print(f\"The length of bc (the hypotenuse) is {bc}\")\n",
        "\n",
        "if __name__ == \"__main__\":\n",
        "  main()"
      ],
      "metadata": {
        "colab": {
          "base_uri": "https://localhost:8080/"
        },
        "id": "M-X44R8om7jt",
        "outputId": "768b02fa-c797-412e-8026-027a402e3391"
      },
      "execution_count": 5,
      "outputs": [
        {
          "output_type": "stream",
          "name": "stdout",
          "text": [
            "\u001b[1m\u001b[3mEnter the length of AB:\u001b[0m 7\n",
            "\u001b[1m\u001b[3mEnter the length of AC:\u001b[0m 9\n",
            "The length of bc (the hypotenuse) is 11.40175425099138\n"
          ]
        }
      ]
    },
    {
      "cell_type": "markdown",
      "source": [
        "# **05_remainder_division**"
      ],
      "metadata": {
        "id": "qQaeGhkDo9Lm"
      }
    },
    {
      "cell_type": "code",
      "source": [
        "def divide():\n",
        "    dividend: int = int(input(\"Enter the dividend: \"))\n",
        "    divisor: int = int(input(\"Enter the divisor: \"))\n",
        "    quotient: int = dividend // divisor\n",
        "    remainder: int = dividend % divisor\n",
        "    print(\"The Quotient is \" + str(quotient))\n",
        "    print(\"The Remainder is \" + str(remainder))\n",
        "if __name__ == \"__main__\":\n",
        "    divide()"
      ],
      "metadata": {
        "colab": {
          "base_uri": "https://localhost:8080/"
        },
        "id": "zzo02kmKpERF",
        "outputId": "72439dff-e7c5-4cb8-c81c-39c70c8f5607"
      },
      "execution_count": 7,
      "outputs": [
        {
          "output_type": "stream",
          "name": "stdout",
          "text": [
            "Enter the dividend: 15\n",
            "Enter the divisor: 3\n",
            "The Quotient is 5\n",
            "The Remainder is 0\n"
          ]
        }
      ]
    },
    {
      "cell_type": "markdown",
      "source": [
        "# **06_rolldice**"
      ],
      "metadata": {
        "id": "avBbi_kArBLH"
      }
    },
    {
      "cell_type": "code",
      "source": [
        "import random\n",
        "def dice_roll():\n",
        "    dice1: int = random.randint(1,6)\n",
        "    dice2: int = random.randint(1,6)\n",
        "    total: int = dice1 + dice2\n",
        "    print(f\"Dice 1: {dice1}\")\n",
        "    print(f\"Dice 2: {dice2}\")\n",
        "    print(f\"Total: {total}\")\n",
        "if __name__ == \"__main__\":\n",
        "    dice_roll()"
      ],
      "metadata": {
        "colab": {
          "base_uri": "https://localhost:8080/"
        },
        "id": "pKKYSr0frGib",
        "outputId": "ec2407c2-4182-48ac-dc42-b1473c0e9a2e"
      },
      "execution_count": 17,
      "outputs": [
        {
          "output_type": "stream",
          "name": "stdout",
          "text": [
            "Dice 1: 6\n",
            "Dice 2: 2\n",
            "Total: 8\n"
          ]
        }
      ]
    },
    {
      "cell_type": "markdown",
      "source": [
        "# **06_seconds_in_year**"
      ],
      "metadata": {
        "id": "Mlx9dvGVtSTv"
      }
    },
    {
      "cell_type": "code",
      "source": [
        "days_in_year: int = 365\n",
        "hours_in_day: int = 24\n",
        "minutes_in_hour: int = 60\n",
        "seconds_in_minute: int = 60\n",
        "def main():\n",
        "  seconds_in_year: int = days_in_year * hours_in_day * minutes_in_hour * seconds_in_minute\n",
        "  print(f\"There are {seconds_in_year} seconds in a year!\")\n",
        "if __name__ == \"__main__\":\n",
        "  main()\n"
      ],
      "metadata": {
        "colab": {
          "base_uri": "https://localhost:8080/"
        },
        "id": "CI0spK8dtWzB",
        "outputId": "2832e956-0173-4ba7-bf21-79780f79f015"
      },
      "execution_count": 18,
      "outputs": [
        {
          "output_type": "stream",
          "name": "stdout",
          "text": [
            "There are 31536000 seconds in a year!\n"
          ]
        }
      ]
    },
    {
      "cell_type": "markdown",
      "source": [
        "# **07_tiny_mad_lib.**"
      ],
      "metadata": {
        "id": "hjpAxLnjuZYS"
      }
    },
    {
      "cell_type": "code",
      "source": [
        "SENTENCE_START: str = \"Panaversity is fun. I learned to program and used Python to make my \"\n",
        "\n",
        "def main():\n",
        "    adjective : str = input(\"Write an adjective: \")\n",
        "    noun : str = input(\"Write a noun: \")\n",
        "    verb : str = input(\"Write a verb: \")\n",
        "    print(f\"{SENTENCE_START}{adjective} {noun} {verb}!\")\n",
        "if __name__ == \"__main__\":\n",
        "  main()"
      ],
      "metadata": {
        "colab": {
          "base_uri": "https://localhost:8080/"
        },
        "id": "mw6m0dLAubth",
        "outputId": "eb15e93d-ac92-4b06-b5c7-26c10d405a62"
      },
      "execution_count": 19,
      "outputs": [
        {
          "output_type": "stream",
          "name": "stdout",
          "text": [
            "Write an adjective: cute\n",
            "Write a noun: boy\n",
            "Write a verb: play\n",
            "Panaversity is fun. I learned to program and used Python to make my cute boy play!\n"
          ]
        }
      ]
    }
  ]
}