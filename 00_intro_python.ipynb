{
  "nbformat": 4,
  "nbformat_minor": 0,
  "metadata": {
    "colab": {
      "provenance": [],
      "authorship_tag": "ABX9TyPCsDs4Z4PyKTQgLHj0Y4IK",
      "include_colab_link": true
    },
    "kernelspec": {
      "name": "python3",
      "display_name": "Python 3"
    },
    "language_info": {
      "name": "python"
    }
  },
  "cells": [
    {
      "cell_type": "markdown",
      "metadata": {
        "id": "view-in-github",
        "colab_type": "text"
      },
      "source": [
        "<a href=\"https://colab.research.google.com/github/Hafsasiddiqui27/assignment-4-python/blob/main/00_intro_python.ipynb\" target=\"_parent\"><img src=\"https://colab.research.google.com/assets/colab-badge.svg\" alt=\"Open In Colab\"/></a>"
      ]
    },
    {
      "cell_type": "markdown",
      "source": [],
      "metadata": {
        "id": "dkaQdW5IW1vP"
      }
    },
    {
      "cell_type": "markdown",
      "source": [
        "# 01_add_two_numbers.\n"
      ],
      "metadata": {
        "id": "AdK8XzOdWtGD"
      }
    },
    {
      "cell_type": "code",
      "execution_count": null,
      "metadata": {
        "colab": {
          "base_uri": "https://localhost:8080/"
        },
        "id": "tL2ci4BKVfN6",
        "outputId": "2019f0ba-d036-4d12-8054-822c089cc1e7"
      },
      "outputs": [
        {
          "output_type": "stream",
          "name": "stdout",
          "text": [
            "adding two numbers\n",
            "This program adds two numbers.\n",
            "Enter first number3\n",
            "Enter second number4\n",
            "The sum of 3 and 4 is 7\n"
          ]
        }
      ],
      "source": [
        "print(\"adding two numbers\")\n",
        "def add():\n",
        "    print(\"This program adds two numbers.\")\n",
        "    num1 : str = input(\"Enter first number \")\n",
        "    num1 : int = int(num1)\n",
        "    num2 : str = input(\"Enter second number \")\n",
        "    num2 : int = int(num2)\n",
        "    sum : int = num1 + num2\n",
        "    print(f'The sum of {num1} and {num2} is {sum}')\n",
        "if __name__ == '__main__':\n",
        "        add()"
      ]
    },
    {
      "cell_type": "markdown",
      "source": [
        "# **02_agreement_bot**"
      ],
      "metadata": {
        "id": "J9hhQ_cthX_e"
      }
    },
    {
      "cell_type": "code",
      "source": [
        "def fav ():\n",
        "    your_fav_animal : str = input(\"\\033[1;3m What is your favorite animal? \\033[0m\")\n",
        "    print(f\"My favourite animal is also {your_fav_animal}!\")\n",
        "if __name__ == '__main__':\n",
        "        fav()"
      ],
      "metadata": {
        "colab": {
          "base_uri": "https://localhost:8080/"
        },
        "id": "mKHB6YhvhbM0",
        "outputId": "4bdb1630-d153-41b1-9008-91f7cb906a92"
      },
      "execution_count": null,
      "outputs": [
        {
          "output_type": "stream",
          "name": "stdout",
          "text": [
            "\u001b[1;3m What's your favorite animal? \u001b[0mj\n",
            "My favourite animal is also j!\n"
          ]
        }
      ]
    },
    {
      "cell_type": "markdown",
      "source": [
        "# **03_fahrenheit_to_celsius**"
      ],
      "metadata": {
        "id": "lrTd6bpzhYDw"
      }
    },
    {
      "cell_type": "code",
      "source": [
        "def temp():\n",
        "\n",
        "    fahrenheit = float(input(\"\\033[1;3m Enter temperature in Fahrenheit: \\033[0m\"))\n",
        "\n",
        "\n",
        "    celsius = (fahrenheit - 32) * 5.0 / 9.0\n",
        "    print(f\"Temperature: {fahrenheit}F = {celsius}C\")\n",
        "if __name__ == \"__main__\":\n",
        "    temp()"
      ],
      "metadata": {
        "colab": {
          "base_uri": "https://localhost:8080/"
        },
        "id": "cFKjrS1-lDwa",
        "outputId": "9958b114-4921-431c-ab28-3c6af69a5614"
      },
      "execution_count": null,
      "outputs": [
        {
          "output_type": "stream",
          "name": "stdout",
          "text": [
            "\u001b[1;3m Enter temperature in Fahrenheit: \u001b[0m67\n",
            "Temperature: 67.0F = 19.444444444444443C\n"
          ]
        }
      ]
    },
    {
      "cell_type": "markdown",
      "source": [
        "# **04_how_old_are_they**"
      ],
      "metadata": {
        "id": "cKwd9pIXn8tC"
      }
    },
    {
      "cell_type": "code",
      "source": [
        "def ages ():\n",
        "    Anton = 21\n",
        "    Beth = Anton + 6\n",
        "    Chen = Beth + 20\n",
        "    Drew = Anton + Chen\n",
        "    Ethan = Chen\n",
        "    print(f\"Anton is {Anton} years old.\")\n",
        "    print(f\"Beth is {Beth} years old.\")\n",
        "    print(f\"Chen is {Chen} years old.\")\n",
        "    print(f\"Drew is {Drew} years old.\")\n",
        "    print(f\"Ethan is {Ethan} years old.\")\n",
        "if __name__ == '__main__':\n",
        "        ages()\n"
      ],
      "metadata": {
        "colab": {
          "base_uri": "https://localhost:8080/"
        },
        "id": "kHy8Mr3joAdl",
        "outputId": "50919146-3729-42dd-fff5-b9da051ff596"
      },
      "execution_count": null,
      "outputs": [
        {
          "output_type": "stream",
          "name": "stdout",
          "text": [
            "Anton is 21 years old.\n",
            "Beth is 27 years old.\n",
            "Chen is 47 years old.\n",
            "Drew is 68 years old.\n",
            "Ethan is 47 years old.\n"
          ]
        }
      ]
    },
    {
      "cell_type": "markdown",
      "source": [
        "# **05_triangle_perimeter**"
      ],
      "metadata": {
        "id": "jWbHxxWJo8Sd"
      }
    },
    {
      "cell_type": "code",
      "source": [
        "print(\"adding the three sides of triangle\")\n",
        "def triangle():\n",
        "    print(\"This program adds the three sides of a triangle.\")\n",
        "    side1 = float(input(\"What is the length of side 1? \"))\n",
        "    side2 = float(input(\"What is the length of side 2? \"))\n",
        "    side3 = float(input(\"What is the length of side 3? \"))\n",
        "    perimeter = side1 + side2 + side3\n",
        "    print(f'The perimeter of the triangle is {perimeter}')\n",
        "if __name__ == '__main__':\n",
        "        triangle()"
      ],
      "metadata": {
        "colab": {
          "base_uri": "https://localhost:8080/"
        },
        "id": "H6lt1huxo-1B",
        "outputId": "dd0c8abc-b705-44c9-f2fa-f00835aca069"
      },
      "execution_count": null,
      "outputs": [
        {
          "output_type": "stream",
          "name": "stdout",
          "text": [
            "adding the three sides of triangle\n",
            "This program adds the three sides of a triangle.\n",
            "What is the length of side 1? 6.7\n",
            "What is the length of side 2? 7.9\n",
            "What is the length of side 3? 8\n",
            "The perimeter of the triangle is 22.6\n"
          ]
        }
      ]
    },
    {
      "cell_type": "markdown",
      "source": [
        "# **06_square_number.**"
      ],
      "metadata": {
        "id": "BbmFK56CriW-"
      }
    },
    {
      "cell_type": "code",
      "source": [
        "def make_square():\n",
        "    num : float = float(input(\"\\033[1;3m Enter a number: \\033[0m\"))\n",
        "    print(f\"The square of {num} is {num ** 2}\")\n",
        "if __name__ == '__main__':\n",
        "    make_square()"
      ],
      "metadata": {
        "colab": {
          "base_uri": "https://localhost:8080/"
        },
        "id": "mlDy8kZWrn2L",
        "outputId": "c3a91683-2b4e-4290-d8d4-f7af46603c40"
      },
      "execution_count": null,
      "outputs": [
        {
          "output_type": "stream",
          "name": "stdout",
          "text": [
            "\u001b[1;3m Enter a number: \u001b[0m5\n",
            "The square of 5.0 is 25.0\n"
          ]
        }
      ]
    }
  ]
}